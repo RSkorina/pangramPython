{
 "cells": [
  {
   "cell_type": "code",
   "execution_count": null,
   "id": "9a70644c-c7fd-46ea-8470-d0c3e3d1f054",
   "metadata": {},
   "outputs": [],
   "source": [
    "#Use python to create a pangram\n"
   ]
  }
 ],
 "metadata": {
  "kernelspec": {
   "display_name": "Python 3 (ipykernel)",
   "language": "python",
   "name": "python3"
  },
  "language_info": {
   "codemirror_mode": {
    "name": "ipython",
    "version": 3
   },
   "file_extension": ".py",
   "mimetype": "text/x-python",
   "name": "python",
   "nbconvert_exporter": "python",
   "pygments_lexer": "ipython3",
   "version": "3.11.7"
  }
 },
 "nbformat": 4,
 "nbformat_minor": 5
}
